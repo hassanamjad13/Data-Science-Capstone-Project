{
  "nbformat": 4,
  "nbformat_minor": 0,
  "metadata": {
    "colab": {
      "provenance": []
    },
    "kernelspec": {
      "name": "python3",
      "display_name": "Python 3"
    },
    "language_info": {
      "name": "python"
    }
  },
  "cells": [
    {
      "cell_type": "code",
      "execution_count": null,
      "metadata": {
        "id": "llXSvn4isgPV"
      },
      "outputs": [],
      "source": [
        "def calculator(numbers, operation):\n",
        "    num1, num2 = numbers\n",
        "\n",
        "    if operation == \"+\":\n",
        "        return num1 + num2\n",
        "    elif operation == \"-\":\n",
        "        return num1 - num2\n",
        "    elif operation == \"*\":\n",
        "        return num1 * num2\n",
        "    elif operation == \"/\":\n",
        "        if num2 == 0:\n",
        "            return \"Cannot divide by zero\"\n",
        "        return num1 / num2\n",
        "    else:\n",
        "        return \"Invalid operation\"\n",
        "\n",
        "while True:\n",
        "    n1 = float(input(\"Enter first number: \"))\n",
        "    n2 = float(input(\"Enter second number: \"))\n",
        "    op = input(\"Enter operation (+, -, *, /): \")\n",
        "\n",
        "    result = calculator([n1, n2], op)\n",
        "    print(\"Result:\", result)\n",
        "\n",
        "    again = input(\"Do you want to calculate again? (yes/no): \")\n",
        "    if again.lower() != \"yes\":\n",
        "        break\n",
        "\n",
        "print(\"Goodbye!\")"
      ]
    }
  ]
}